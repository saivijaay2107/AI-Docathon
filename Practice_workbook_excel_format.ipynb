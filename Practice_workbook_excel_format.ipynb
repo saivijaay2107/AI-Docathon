{
  "nbformat": 4,
  "nbformat_minor": 0,
  "metadata": {
    "colab": {
      "name": "Practice_workbook_excel-format.ipynb",
      "provenance": [],
      "authorship_tag": "ABX9TyPCsVlo20xRSLNI28j8+rsc",
      "include_colab_link": true
    },
    "kernelspec": {
      "name": "python3",
      "display_name": "Python 3"
    },
    "language_info": {
      "name": "python"
    }
  },
  "cells": [
    {
      "cell_type": "markdown",
      "metadata": {
        "id": "view-in-github",
        "colab_type": "text"
      },
      "source": [
        "<a href=\"https://colab.research.google.com/github/saivijaay2107/AI-Docathon/blob/main/Practice_workbook_excel_format.ipynb\" target=\"_parent\"><img src=\"https://colab.research.google.com/assets/colab-badge.svg\" alt=\"Open In Colab\"/></a>"
      ]
    },
    {
      "cell_type": "code",
      "metadata": {
        "id": "Ye7yRbFCSnNb"
      },
      "source": [
        "import numpy as np\n",
        "import pandas as pd\n",
        "import cv2\n",
        "import seaborn as srn"
      ],
      "execution_count": null,
      "outputs": []
    },
    {
      "cell_type": "code",
      "metadata": {
        "id": "g_y6jboOS7WY"
      },
      "source": [
        "number = np.linspace(1,5,10)\n",
        "file = open('numbers_sample.txt','w')\n",
        "for numbers in number:\n",
        "  file.write('%f\\n'%numbers)\n",
        "file.close()\n"
      ],
      "execution_count": null,
      "outputs": []
    },
    {
      "cell_type": "code",
      "metadata": {
        "colab": {
          "base_uri": "https://localhost:8080/"
        },
        "id": "zyP_8mQPTMhP",
        "outputId": "007192f8-65c6-425b-96f4-364b32128db8"
      },
      "source": [
        "file = open('numbers_sample.txt','r')\n",
        "file = file.read()\n",
        "print(file)"
      ],
      "execution_count": null,
      "outputs": [
        {
          "output_type": "stream",
          "name": "stdout",
          "text": [
            "1.000000\n",
            "1.444444\n",
            "1.888889\n",
            "2.333333\n",
            "2.777778\n",
            "3.222222\n",
            "3.666667\n",
            "4.111111\n",
            "4.555556\n",
            "5.000000\n",
            "\n"
          ]
        }
      ]
    },
    {
      "cell_type": "code",
      "metadata": {
        "colab": {
          "base_uri": "https://localhost:8080/",
          "height": 357
        },
        "id": "JA5-Y5RueHgy",
        "outputId": "4e1505b1-85d2-4030-9538-53190dde6966"
      },
      "source": [
        "data = pd.read_csv('numbers_sample.txt',\n",
        "                    header =None, names=['Sales'])\n",
        "data"
      ],
      "execution_count": null,
      "outputs": [
        {
          "output_type": "execute_result",
          "data": {
            "text/html": [
              "<div>\n",
              "<style scoped>\n",
              "    .dataframe tbody tr th:only-of-type {\n",
              "        vertical-align: middle;\n",
              "    }\n",
              "\n",
              "    .dataframe tbody tr th {\n",
              "        vertical-align: top;\n",
              "    }\n",
              "\n",
              "    .dataframe thead th {\n",
              "        text-align: right;\n",
              "    }\n",
              "</style>\n",
              "<table border=\"1\" class=\"dataframe\">\n",
              "  <thead>\n",
              "    <tr style=\"text-align: right;\">\n",
              "      <th></th>\n",
              "      <th>Sales</th>\n",
              "    </tr>\n",
              "  </thead>\n",
              "  <tbody>\n",
              "    <tr>\n",
              "      <th>0</th>\n",
              "      <td>1.000000</td>\n",
              "    </tr>\n",
              "    <tr>\n",
              "      <th>1</th>\n",
              "      <td>1.444444</td>\n",
              "    </tr>\n",
              "    <tr>\n",
              "      <th>2</th>\n",
              "      <td>1.888889</td>\n",
              "    </tr>\n",
              "    <tr>\n",
              "      <th>3</th>\n",
              "      <td>2.333333</td>\n",
              "    </tr>\n",
              "    <tr>\n",
              "      <th>4</th>\n",
              "      <td>2.777778</td>\n",
              "    </tr>\n",
              "    <tr>\n",
              "      <th>5</th>\n",
              "      <td>3.222222</td>\n",
              "    </tr>\n",
              "    <tr>\n",
              "      <th>6</th>\n",
              "      <td>3.666667</td>\n",
              "    </tr>\n",
              "    <tr>\n",
              "      <th>7</th>\n",
              "      <td>4.111111</td>\n",
              "    </tr>\n",
              "    <tr>\n",
              "      <th>8</th>\n",
              "      <td>4.555556</td>\n",
              "    </tr>\n",
              "    <tr>\n",
              "      <th>9</th>\n",
              "      <td>5.000000</td>\n",
              "    </tr>\n",
              "  </tbody>\n",
              "</table>\n",
              "</div>"
            ],
            "text/plain": [
              "      Sales\n",
              "0  1.000000\n",
              "1  1.444444\n",
              "2  1.888889\n",
              "3  2.333333\n",
              "4  2.777778\n",
              "5  3.222222\n",
              "6  3.666667\n",
              "7  4.111111\n",
              "8  4.555556\n",
              "9  5.000000"
            ]
          },
          "metadata": {},
          "execution_count": 4
        }
      ]
    },
    {
      "cell_type": "code",
      "metadata": {
        "colab": {
          "base_uri": "https://localhost:8080/"
        },
        "id": "8fbcspOVq8xP",
        "outputId": "9d70a2a3-89d9-414b-cfec-d1f404d6e5cf"
      },
      "source": [
        "import openpyxl\n",
        "import xlrd\n",
        "!pip install xlsxwriter\n",
        "import xlsxwriter\n"
      ],
      "execution_count": null,
      "outputs": [
        {
          "output_type": "stream",
          "name": "stdout",
          "text": [
            "Collecting xlsxwriter\n",
            "  Downloading XlsxWriter-3.0.1-py3-none-any.whl (148 kB)\n",
            "\u001b[K     |████████████████████████████████| 148 kB 2.6 MB/s \n",
            "\u001b[?25hInstalling collected packages: xlsxwriter\n",
            "Successfully installed xlsxwriter-3.0.1\n"
          ]
        }
      ]
    },
    {
      "cell_type": "code",
      "metadata": {
        "id": "IH7NCZYctFZj"
      },
      "source": [
        "import xlsxwriter"
      ],
      "execution_count": null,
      "outputs": []
    },
    {
      "cell_type": "code",
      "metadata": {
        "id": "Wy-C1iIBtlNK"
      },
      "source": [
        "writer = pd.ExcelWriter('Great Learning.xlsx', engine = 'xlsxwriter')\n",
        "writer.save()"
      ],
      "execution_count": null,
      "outputs": []
    },
    {
      "cell_type": "code",
      "metadata": {
        "id": "suGky7PBuZD0"
      },
      "source": [
        "df= pd.DataFrame({\n",
        "    'Names':['SAI','THARUN','RAJ','RAGUL'],\n",
        "    'Marks':[93,69,98,35]\n",
        "})\n",
        "writer = pd.ExcelWriter('Great Learning.xlsx', engine='xlsxwriter')\n",
        "df = df.to_excel(writer, sheet_name='Demo session', index= None)\n",
        "writer.save()"
      ],
      "execution_count": null,
      "outputs": []
    },
    {
      "cell_type": "code",
      "metadata": {
        "colab": {
          "base_uri": "https://localhost:8080/"
        },
        "id": "T5DTVrNyxxl1",
        "outputId": "ce6303fd-8f01-4858-aae9-84611b490f84"
      },
      "source": [
        "reader = pd.read_excel(r'Great Learning.xlsx')\n",
        "print(reader)"
      ],
      "execution_count": null,
      "outputs": [
        {
          "output_type": "stream",
          "name": "stdout",
          "text": [
            "    Names  Marks\n",
            "0     SAI     93\n",
            "1  THARUN     69\n",
            "2     RAJ     98\n",
            "3   RAGUL     35\n"
          ]
        }
      ]
    },
    {
      "cell_type": "code",
      "metadata": {
        "colab": {
          "base_uri": "https://localhost:8080/"
        },
        "id": "DNxvuO9tx-9p",
        "outputId": "34b4874f-f480-4522-9b77-a5fc95f479ba"
      },
      "source": [
        "df= pd.DataFrame({\n",
        "    'Names':['SAI','THARUN','RAJ','RAGUL'],\n",
        "    'Marks':[93,69,98,35]\n",
        "})\n",
        "writer = pd.ExcelWriter('Great Learning.xlsx', engine='xlsxwriter')\n",
        "df = df.to_excel(writer, sheet_name='Demo session', index= None)\n",
        "\n",
        "workbook = writer.book\n",
        "worksheet = writer.sheets['Demo session'] \n",
        "chart = workbook.add_chart({'type':'column'})\n",
        "chart.add_series({'values': '=Demo session!$B$2:$B$5'})\n",
        "worksheet.insert_chart('D2', chart)\n",
        "writer.close()"
      ],
      "execution_count": null,
      "outputs": [
        {
          "output_type": "stream",
          "name": "stderr",
          "text": [
            "/usr/local/lib/python3.7/dist-packages/xlsxwriter/chart.py:836: UserWarning: Sheetname in '=Demo session!$B$2:$B$5' contains spaces but isn't quoted. This may cause errors in Excel.\n",
            "  \"This may cause errors in Excel.\" % data)\n"
          ]
        }
      ]
    },
    {
      "cell_type": "code",
      "metadata": {
        "colab": {
          "base_uri": "https://localhost:8080/"
        },
        "id": "CZRfhULHz9B_",
        "outputId": "5909513e-94da-4448-cf29-20f20c711b23"
      },
      "source": [
        "reader = pd.read_excel(r'Great Learning.xlsx')\n",
        "print(reader)"
      ],
      "execution_count": null,
      "outputs": [
        {
          "output_type": "stream",
          "name": "stdout",
          "text": [
            "    Names  Marks\n",
            "0     SAI     93\n",
            "1  THARUN     69\n",
            "2     RAJ     98\n",
            "3   RAGUL     35\n"
          ]
        }
      ]
    },
    {
      "cell_type": "code",
      "metadata": {
        "id": "wGUJ9H_JslgE"
      },
      "source": [
        ""
      ],
      "execution_count": null,
      "outputs": []
    }
  ]
}