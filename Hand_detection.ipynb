{
  "nbformat": 4,
  "nbformat_minor": 0,
  "metadata": {
    "colab": {
      "name": "Hand detection.ipynb",
      "provenance": [],
      "authorship_tag": "ABX9TyOgzEfetx359M8rC5fGwzAS",
      "include_colab_link": true
    },
    "kernelspec": {
      "name": "python3",
      "display_name": "Python 3"
    },
    "language_info": {
      "name": "python"
    }
  },
  "cells": [
    {
      "cell_type": "markdown",
      "metadata": {
        "id": "view-in-github",
        "colab_type": "text"
      },
      "source": [
        "<a href=\"https://colab.research.google.com/github/saivijaay2107/AI-Docathon/blob/main/Hand_detection.ipynb\" target=\"_parent\"><img src=\"https://colab.research.google.com/assets/colab-badge.svg\" alt=\"Open In Colab\"/></a>"
      ]
    },
    {
      "cell_type": "code",
      "metadata": {
        "id": "sZBoDH8b47a3"
      },
      "source": [
        "import cv2\n",
        "!pip install mediapipe\n",
        "import mediapipe as mp"
      ],
      "execution_count": null,
      "outputs": []
    },
    {
      "cell_type": "code",
      "metadata": {
        "id": "VrxPJg-S5kVU"
      },
      "source": [
        "mp_drawing = mp.solutions.drawing_utils\n",
        "mp_drawing_styles = mp.solutions.drawing_styles\n",
        "mp_hands = mp.solutions.hands\n",
        "#For web cam using\n",
        "cap = cv2.VideoCapture(0)\n",
        "with mp_hands.Hands(\n",
        "    model_complexity=0,\n",
        "    min_detection_confidence=0.5,\n",
        "    min_tracking_confidence=0.5) as hands:\n",
        "    while cap.isOpened():\n",
        "      success, image = cap.read()\n",
        "      if not success:\n",
        "        print('Ignoring empty camera frame')\n",
        "\n",
        "        continue\n",
        "      \n",
        "      #To improve performance and optionally mark the image\n",
        "      # as not writetable to pass by reference\n",
        "      image.flags.writeable = False\n",
        "      image =  cv2.cvtColor(image, cv2.COLOR_BGR2RGB)\n",
        "      results = hands.process(image)\n",
        "      image.flags.writeable = True #Draw the hand annotions on the image\n",
        "      image = cv2.cvtColor(image, cv2.COLOR_RGB2BGR)\n",
        "      if results.multi_hand_landmarks:\n",
        "        for hand_landmarks in results.multi_hand_landmarks:\n",
        "              mp_drawing.draw_landmarks(\n",
        "                  image,\n",
        "                  hand_landmarks,\n",
        "                  mp_hands.HAND_CONNECTIONS,\n",
        "                  mp_drawing_styles.get_default_hand_landmarks_style(),\n",
        "                  mp_drawing_styles.get_default_hand_connections_style())\n",
        "            # Flip the image horizontally for selfie vied style\n",
        "      cv2.imshow('Mediapipe Hands', cv2.flip(image, 1))\n",
        "      if cv2.waitKey(5) & 0xFF == 27:\n",
        "        break\n",
        "cap.release()  "
      ],
      "execution_count": 24,
      "outputs": []
    }
  ]
}
